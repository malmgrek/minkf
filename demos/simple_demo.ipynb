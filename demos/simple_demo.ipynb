{
 "cells": [
  {
   "cell_type": "markdown",
   "id": "3cd51b03",
   "metadata": {},
   "source": [
    "## Reconstructing random walk data\n",
    "\n",
    "This is the simplest possible Kalman filter example, where the system is simply\n",
    "\n",
    "$x_k=x_{k-1}+E$\n",
    "\n",
    "$y_k=x_k+e$"
   ]
  },
  {
   "cell_type": "code",
   "execution_count": null,
   "id": "1b1df303",
   "metadata": {},
   "outputs": [],
   "source": [
    "import numpy as np\n",
    "import minkf as kf\n",
    "import matplotlib.pyplot as plt\n",
    "%matplotlib notebook"
   ]
  },
  {
   "cell_type": "code",
   "execution_count": null,
   "id": "ac10f0c1",
   "metadata": {},
   "outputs": [],
   "source": [
    "y = np.cumsum(np.random.standard_normal(100))\n",
    "\n",
    "x0 = np.array([0.0])\n",
    "Cest0 = np.array([[1.0]])\n",
    "M = np.array([[1.0]])\n",
    "K = np.array([[1.0]])\n",
    "Q = 0.1*np.array([[1.0]])\n",
    "R = 0.1*np.array([[1.0]])"
   ]
  },
  {
   "cell_type": "code",
   "execution_count": null,
   "id": "318686f5",
   "metadata": {},
   "outputs": [],
   "source": [
    "res = kf.run_filter(y, x0, Cest0, M, K, Q, R, likelihood=True)"
   ]
  },
  {
   "cell_type": "code",
   "execution_count": null,
   "id": "79f118c6",
   "metadata": {},
   "outputs": [],
   "source": [
    "res_smo = kf.run_smoother(y, x0, Cest0, M, K, Q, R)"
   ]
  },
  {
   "cell_type": "code",
   "execution_count": null,
   "id": "28bb4a61",
   "metadata": {},
   "outputs": [],
   "source": [
    "plt.figure()\n",
    "\n",
    "plt.plot(y, 'bo', ms=5)\n",
    "plt.plot(res['x'], 'k-')\n",
    "plt.plot(res_smo['x'], 'r-')\n",
    "plt.grid(True)\n",
    "plt.show()"
   ]
  },
  {
   "cell_type": "code",
   "execution_count": null,
   "id": "99cf7873",
   "metadata": {},
   "outputs": [],
   "source": [
    "res['loglike']"
   ]
  },
  {
   "cell_type": "code",
   "execution_count": null,
   "id": "060995e8",
   "metadata": {},
   "outputs": [],
   "source": [
    "samps = kf.sample(res, M, Q, nsamples=10)"
   ]
  },
  {
   "cell_type": "code",
   "execution_count": null,
   "id": "2007d2f0",
   "metadata": {},
   "outputs": [],
   "source": [
    "plt.figure()\n",
    "\n",
    "plt.plot(np.array(samps).T, 'r-', alpha=0.2)\n",
    "plt.plot(y, 'bo', ms=2)\n",
    "\n",
    "plt.grid(True)\n",
    "plt.show()"
   ]
  }
 ],
 "metadata": {
  "kernelspec": {
   "display_name": "Python 3 (ipykernel)",
   "language": "python",
   "name": "python3"
  },
  "language_info": {
   "codemirror_mode": {
    "name": "ipython",
    "version": 3
   },
   "file_extension": ".py",
   "mimetype": "text/x-python",
   "name": "python",
   "nbconvert_exporter": "python",
   "pygments_lexer": "ipython3",
   "version": "3.9.6"
  }
 },
 "nbformat": 4,
 "nbformat_minor": 5
}
