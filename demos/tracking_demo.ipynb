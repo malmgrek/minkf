{
 "cells": [
  {
   "cell_type": "markdown",
   "id": "518b1c87",
   "metadata": {},
   "source": [
    "## Object tracking\n",
    "\n",
    "This is the classical object tracking problem, where the 4-dimensional state vector $x_k=[p_k, v_k]^T$ is the objects 2-d position $p_k$ and 2-d velocity $v_k$. Object moves with constant velocity through the discrete time steps of length $\\Delta t$, and the velocity changes \"smoothly\" between time steps. The forward model thus reads as\n",
    "\n",
    "$p_k=p_{k-1}+\\Delta t v_{k-1} + e_p$\n",
    "\n",
    "$v_k=v_{k-1}+e_v$\n",
    "\n",
    "Only the position is observed. Here, we have $\\Delta t = 1$."
   ]
  },
  {
   "cell_type": "code",
   "execution_count": null,
   "id": "3ed34c2a",
   "metadata": {},
   "outputs": [],
   "source": [
    "import numpy as np\n",
    "import minkf as kf\n",
    "import matplotlib.pyplot as plt\n",
    "%matplotlib notebook"
   ]
  },
  {
   "cell_type": "code",
   "execution_count": null,
   "id": "28ce6a66",
   "metadata": {},
   "outputs": [],
   "source": [
    "data = np.genfromtxt('observations.csv', delimiter=',')"
   ]
  },
  {
   "cell_type": "code",
   "execution_count": null,
   "id": "a6cf4ef0",
   "metadata": {},
   "outputs": [],
   "source": [
    "obs = list(data[:,1:])\n",
    "\n",
    "x0 = np.array([10.0, 10.0, 1.0, 0.0])\n",
    "Cest0 = np.eye(4)\n",
    "\n",
    "M = np.array([[1.0, 0.0, 1.0, 0.0],\n",
    "              [0.0, 1.0, 0.0, 1.0],\n",
    "              [0.0, 0.0, 1.0, 0.0],\n",
    "              [0.0, 0.0, 0.0, 1.0]])\n",
    "K = np.array([[1.0, 0.0, 0.0, 0.0],\n",
    "              [0.0, 1.0, 0.0, 0.0]])\n",
    "\n",
    "Q = 0.1*np.eye(4)\n",
    "R = 0.1*np.eye(2)"
   ]
  },
  {
   "cell_type": "code",
   "execution_count": null,
   "id": "6f09dc2e",
   "metadata": {},
   "outputs": [],
   "source": [
    "res_kf = kf.run_filter(obs, x0, Cest0, M, K, Q, R, likelihood=True)\n",
    "res_smo = kf.run_smoother(obs, x0, Cest0, M, K, Q, R)"
   ]
  },
  {
   "cell_type": "code",
   "execution_count": null,
   "id": "d3033313",
   "metadata": {},
   "outputs": [],
   "source": [
    "res_kf['loglike']"
   ]
  },
  {
   "cell_type": "code",
   "execution_count": null,
   "id": "b5ef4d06",
   "metadata": {},
   "outputs": [],
   "source": [
    "plt.figure()\n",
    "\n",
    "plt.subplot(211)\n",
    "plt.plot(np.array(res_kf['x'])[:,0], np.array(res_kf['x'])[:,1], 'k-')\n",
    "plt.plot(np.array(res_smo['x'])[:,0], np.array(res_smo['x'])[:,1], 'r-')\n",
    "plt.plot(data[:,1], data[:,2], 'b.')\n",
    "plt.grid(True)\n",
    "\n",
    "plt.subplot(212)\n",
    "for s_kf, s_smo in zip(res_kf['x'], res_smo['x']):\n",
    "    plt.arrow(*s_kf, color='k')\n",
    "    plt.arrow(*s_smo, color='r')\n",
    "plt.plot(data[:,1], data[:,2], 'b.')\n",
    "\n",
    "plt.grid(True)\n",
    "plt.show()"
   ]
  },
  {
   "cell_type": "code",
   "execution_count": null,
   "id": "6d8216ba",
   "metadata": {},
   "outputs": [],
   "source": [
    "samps = kf.sample(res_kf, M, Q, nsamples=20)"
   ]
  },
  {
   "cell_type": "code",
   "execution_count": null,
   "id": "8315e448",
   "metadata": {},
   "outputs": [],
   "source": [
    "plt.figure()\n",
    "\n",
    "for samp in samps:\n",
    "    plt.plot(samp[:,0], samp[:,1], 'r-', alpha=0.2)\n",
    "\n",
    "plt.plot(data[:,1], data[:,2], 'b.')\n",
    "plt.grid(True)\n",
    "plt.show()"
   ]
  },
  {
   "cell_type": "code",
   "execution_count": null,
   "id": "100ccbcc",
   "metadata": {},
   "outputs": [],
   "source": []
  }
 ],
 "metadata": {
  "kernelspec": {
   "display_name": "Python 3 (ipykernel)",
   "language": "python",
   "name": "python3"
  },
  "language_info": {
   "codemirror_mode": {
    "name": "ipython",
    "version": 3
   },
   "file_extension": ".py",
   "mimetype": "text/x-python",
   "name": "python",
   "nbconvert_exporter": "python",
   "pygments_lexer": "ipython3",
   "version": "3.9.6"
  }
 },
 "nbformat": 4,
 "nbformat_minor": 5
}
